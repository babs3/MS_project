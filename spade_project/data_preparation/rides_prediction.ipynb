{
 "cells": [
  {
   "cell_type": "code",
   "execution_count": 15,
   "metadata": {},
   "outputs": [
    {
     "data": {
      "text/html": [
       "<div>\n",
       "<style scoped>\n",
       "    .dataframe tbody tr th:only-of-type {\n",
       "        vertical-align: middle;\n",
       "    }\n",
       "\n",
       "    .dataframe tbody tr th {\n",
       "        vertical-align: top;\n",
       "    }\n",
       "\n",
       "    .dataframe thead th {\n",
       "        text-align: right;\n",
       "    }\n",
       "</style>\n",
       "<table border=\"1\" class=\"dataframe\">\n",
       "  <thead>\n",
       "    <tr style=\"text-align: right;\">\n",
       "      <th></th>\n",
       "      <th>ride_id</th>\n",
       "      <th>started_at</th>\n",
       "      <th>ended_at</th>\n",
       "      <th>start_station_id</th>\n",
       "      <th>end_station_id</th>\n",
       "      <th>ride_duration</th>\n",
       "      <th>distance</th>\n",
       "    </tr>\n",
       "  </thead>\n",
       "  <tbody>\n",
       "    <tr>\n",
       "      <th>0</th>\n",
       "      <td>322BD23D287743ED</td>\n",
       "      <td>2020-08-20 18:08:14</td>\n",
       "      <td>2020-08-20 18:17:51</td>\n",
       "      <td>329.0</td>\n",
       "      <td>141.0</td>\n",
       "      <td>9.616667</td>\n",
       "      <td>1.884479</td>\n",
       "    </tr>\n",
       "    <tr>\n",
       "      <th>1</th>\n",
       "      <td>2A3AEF1AB9054D8B</td>\n",
       "      <td>2020-08-27 18:46:04</td>\n",
       "      <td>2020-08-27 19:54:51</td>\n",
       "      <td>168.0</td>\n",
       "      <td>168.0</td>\n",
       "      <td>68.783333</td>\n",
       "      <td>0.000000</td>\n",
       "    </tr>\n",
       "    <tr>\n",
       "      <th>2</th>\n",
       "      <td>67DC1D133E8B5816</td>\n",
       "      <td>2020-08-26 19:44:14</td>\n",
       "      <td>2020-08-26 21:53:07</td>\n",
       "      <td>195.0</td>\n",
       "      <td>44.0</td>\n",
       "      <td>128.883333</td>\n",
       "      <td>0.679841</td>\n",
       "    </tr>\n",
       "    <tr>\n",
       "      <th>3</th>\n",
       "      <td>C79FBBD412E578A7</td>\n",
       "      <td>2020-08-27 12:05:41</td>\n",
       "      <td>2020-08-27 12:53:45</td>\n",
       "      <td>81.0</td>\n",
       "      <td>47.0</td>\n",
       "      <td>48.066667</td>\n",
       "      <td>0.573236</td>\n",
       "    </tr>\n",
       "    <tr>\n",
       "      <th>4</th>\n",
       "      <td>13814D3D661ECADB</td>\n",
       "      <td>2020-08-27 16:49:02</td>\n",
       "      <td>2020-08-27 16:59:49</td>\n",
       "      <td>658.0</td>\n",
       "      <td>658.0</td>\n",
       "      <td>10.783333</td>\n",
       "      <td>0.000000</td>\n",
       "    </tr>\n",
       "  </tbody>\n",
       "</table>\n",
       "</div>"
      ],
      "text/plain": [
       "            ride_id           started_at             ended_at  \\\n",
       "0  322BD23D287743ED  2020-08-20 18:08:14  2020-08-20 18:17:51   \n",
       "1  2A3AEF1AB9054D8B  2020-08-27 18:46:04  2020-08-27 19:54:51   \n",
       "2  67DC1D133E8B5816  2020-08-26 19:44:14  2020-08-26 21:53:07   \n",
       "3  C79FBBD412E578A7  2020-08-27 12:05:41  2020-08-27 12:53:45   \n",
       "4  13814D3D661ECADB  2020-08-27 16:49:02  2020-08-27 16:59:49   \n",
       "\n",
       "   start_station_id  end_station_id  ride_duration  distance  \n",
       "0             329.0           141.0       9.616667  1.884479  \n",
       "1             168.0           168.0      68.783333  0.000000  \n",
       "2             195.0            44.0     128.883333  0.679841  \n",
       "3              81.0            47.0      48.066667  0.573236  \n",
       "4             658.0           658.0      10.783333  0.000000  "
      ]
     },
     "execution_count": 15,
     "metadata": {},
     "output_type": "execute_result"
    }
   ],
   "source": [
    "import pandas as pd\n",
    "import numpy as np\n",
    "import matplotlib.pyplot as plt\n",
    "import seaborn as sns\n",
    "from scipy.stats import gaussian_kde\n",
    "\n",
    "# Read the CSV file\n",
    "df = pd.read_csv('../datasets/all_trips.csv')\n",
    "df.head()"
   ]
  },
  {
   "cell_type": "code",
   "execution_count": 16,
   "metadata": {},
   "outputs": [],
   "source": [
    "# Calculate Probability Distributions\n",
    "\n",
    "# Calculate the probability of each starting station\n",
    "start_station_probs = df['start_station_id'].value_counts(normalize=True)\n",
    "\n",
    "# Calculate the conditional probabilities of destinations given the starting station\n",
    "end_station_probs = df.groupby('start_station_id')['end_station_id'].value_counts(normalize=True)\n"
   ]
  },
  {
   "cell_type": "code",
   "execution_count": 17,
   "metadata": {},
   "outputs": [],
   "source": [
    "# Sample Starting and Ending Stations\n",
    "\n",
    "# Sample a starting station\n",
    "sampled_start_station = np.random.choice(start_station_probs.index, p=start_station_probs.values)\n",
    "\n",
    "# Sample an ending station based on the sampled starting station\n",
    "sampled_end_station_probs = end_station_probs[sampled_start_station]\n",
    "sampled_end_station = np.random.choice(sampled_end_station_probs.index, p=sampled_end_station_probs.values)"
   ]
  },
  {
   "cell_type": "code",
   "execution_count": null,
   "metadata": {},
   "outputs": [],
   "source": [
    "# Convert 'started_at' to datetime\n",
    "df['started_at'] = pd.to_datetime(df['started_at'])\n",
    "# Extract the date and hour from 'started_at'\n",
    "df['date'] = df['started_at'].dt.date\n",
    "# Extract the date and 15-minute intervals\n",
    "df['15_min_interval'] = df['started_at'].dt.floor('15min')\n",
    "# Define the start of the day\n",
    "start_of_day = pd.to_datetime(\"2020-08-20 00:00:00\")"
   ]
  },
  {
   "cell_type": "code",
   "execution_count": 19,
   "metadata": {},
   "outputs": [],
   "source": [
    "# Group by date and 15-minute intervals, and count the number of departures\n",
    "departures_per_interval = df.groupby(['date', '15_min_interval']).size().reset_index(name='departures')\n",
    "\n",
    "# Extract only the time part for 15-minute intervals\n",
    "departures_per_interval['time'] = departures_per_interval['15_min_interval'].dt.time\n",
    "\n",
    "# Group by time (15-minute intervals) and compute the average departures across all days\n",
    "avg_departures_per_15min = departures_per_interval.groupby('time')['departures'].mean()\n",
    "\n",
    "# Fit a Kernel Density Estimate (KDE) to the average departures\n",
    "kde = gaussian_kde(avg_departures_per_15min)"
   ]
  },
  {
   "cell_type": "code",
   "execution_count": 20,
   "metadata": {},
   "outputs": [
    {
     "ename": "ValueError",
     "evalue": "`dataset` input should have multiple elements.",
     "output_type": "error",
     "traceback": [
      "\u001b[1;31m---------------------------------------------------------------------------\u001b[0m",
      "\u001b[1;31mValueError\u001b[0m                                Traceback (most recent call last)",
      "Cell \u001b[1;32mIn[20], line 7\u001b[0m\n\u001b[0;32m      5\u001b[0m duration_kdes \u001b[38;5;241m=\u001b[39m {}\n\u001b[0;32m      6\u001b[0m \u001b[38;5;28;01mfor\u001b[39;00m (start, end), durations \u001b[38;5;129;01min\u001b[39;00m duration_distributions:\n\u001b[1;32m----> 7\u001b[0m     duration_kdes[(start, end)] \u001b[38;5;241m=\u001b[39m \u001b[43mgaussian_kde\u001b[49m\u001b[43m(\u001b[49m\u001b[43mdurations\u001b[49m\u001b[43m)\u001b[49m\n\u001b[0;32m      9\u001b[0m \u001b[38;5;66;03m# After predicting start and end stations\u001b[39;00m\n\u001b[0;32m     10\u001b[0m predicted_pair \u001b[38;5;241m=\u001b[39m (sampled_start_station, sampled_end_station)\n",
      "File \u001b[1;32mc:\\Python311\\Lib\\site-packages\\scipy\\stats\\_kde.py:199\u001b[0m, in \u001b[0;36mgaussian_kde.__init__\u001b[1;34m(self, dataset, bw_method, weights)\u001b[0m\n\u001b[0;32m    197\u001b[0m \u001b[38;5;28mself\u001b[39m\u001b[38;5;241m.\u001b[39mdataset \u001b[38;5;241m=\u001b[39m atleast_2d(asarray(dataset))\n\u001b[0;32m    198\u001b[0m \u001b[38;5;28;01mif\u001b[39;00m \u001b[38;5;129;01mnot\u001b[39;00m \u001b[38;5;28mself\u001b[39m\u001b[38;5;241m.\u001b[39mdataset\u001b[38;5;241m.\u001b[39msize \u001b[38;5;241m>\u001b[39m \u001b[38;5;241m1\u001b[39m:\n\u001b[1;32m--> 199\u001b[0m     \u001b[38;5;28;01mraise\u001b[39;00m \u001b[38;5;167;01mValueError\u001b[39;00m(\u001b[38;5;124m\"\u001b[39m\u001b[38;5;124m`dataset` input should have multiple elements.\u001b[39m\u001b[38;5;124m\"\u001b[39m)\n\u001b[0;32m    201\u001b[0m \u001b[38;5;28mself\u001b[39m\u001b[38;5;241m.\u001b[39md, \u001b[38;5;28mself\u001b[39m\u001b[38;5;241m.\u001b[39mn \u001b[38;5;241m=\u001b[39m \u001b[38;5;28mself\u001b[39m\u001b[38;5;241m.\u001b[39mdataset\u001b[38;5;241m.\u001b[39mshape\n\u001b[0;32m    203\u001b[0m \u001b[38;5;28;01mif\u001b[39;00m weights \u001b[38;5;129;01mis\u001b[39;00m \u001b[38;5;129;01mnot\u001b[39;00m \u001b[38;5;28;01mNone\u001b[39;00m:\n",
      "\u001b[1;31mValueError\u001b[0m: `dataset` input should have multiple elements."
     ]
    }
   ],
   "source": [
    "\n",
    "# Calculate conditional distributions of durations by start and end station pairs\n",
    "duration_distributions = df.groupby(['start_station_id', 'end_station_id'])['ride_duration']\n",
    "\n",
    "# Fit KDEs for each start-end pair\n",
    "duration_kdes = {}\n",
    "for (start, end), durations in duration_distributions:\n",
    "    duration_kdes[(start, end)] = gaussian_kde(durations)\n",
    "\n",
    "# After predicting start and end stations\n",
    "predicted_pair = (sampled_start_station, sampled_end_station)\n",
    "\n",
    "if predicted_pair in duration_kdes:\n",
    "    ride_duration = duration_kdes[predicted_pair].resample(1)[0][0]  # Sample duration in minutes\n",
    "else:\n",
    "    # Fallback for unseen pairs (e.g., use global mean or a random value)\n",
    "    ride_duration = df['ride_duration'].mean()\n",
    "\n",
    "# Ensure non-negative duration\n",
    "ride_duration = max(ride_duration, 0)\n"
   ]
  },
  {
   "cell_type": "code",
   "execution_count": null,
   "metadata": {},
   "outputs": [],
   "source": [
    "# Calculate the end time of the ride\n",
    "ride_duration_timedelta = pd.Timedelta(minutes=ride_duration)\n",
    "end_ride_time = next_ride_time + ride_duration_timedelta\n",
    "\n",
    "# Print the full prediction\n",
    "print(f\"Predicted next ride will occur at: {next_ride_time}\")\n",
    "print(f\"Starting station: {sampled_start_station}\")\n",
    "print(f\"Ending station: {sampled_end_station}\")\n",
    "print(f\"Predicted ride duration: {ride_duration:.2f} minutes\")\n",
    "print(f\"Predicted ride will end at: {end_ride_time}\")"
   ]
  }
 ],
 "metadata": {
  "kernelspec": {
   "display_name": "Python 3",
   "language": "python",
   "name": "python3"
  },
  "language_info": {
   "codemirror_mode": {
    "name": "ipython",
    "version": 3
   },
   "file_extension": ".py",
   "mimetype": "text/x-python",
   "name": "python",
   "nbconvert_exporter": "python",
   "pygments_lexer": "ipython3",
   "version": "3.11.0"
  }
 },
 "nbformat": 4,
 "nbformat_minor": 2
}
