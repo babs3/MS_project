{
 "cells": [
  {
   "cell_type": "code",
   "execution_count": null,
   "metadata": {},
   "outputs": [],
   "source": [
    "import pandas as pd\n",
    "import numpy as np\n",
    "\n",
    "# Read the CSV file\n",
    "df = pd.read_csv('dataset/tripdata.csv')\n",
    "df.head()"
   ]
  },
  {
   "cell_type": "code",
   "execution_count": null,
   "metadata": {},
   "outputs": [],
   "source": [
    "# Drop the columns that are not needed\n",
    "df = df.drop([\"rideable_type\", \"member_casual\"], axis=1)\n",
    "\n",
    "# Convert the started_at and ended_at columns to datetime\n",
    "df['started_at'] = pd.to_datetime(df['started_at'])\n",
    "df['ended_at'] = pd.to_datetime(df['ended_at'])\n",
    "\n",
    "# Calculate the ride duration in minutes\n",
    "df['ride_duration'] = (df['ended_at'] - df['started_at']).dt.total_seconds() / 60\n",
    "# Remove the rows with negative ride duration\n",
    "df = df[df['ride_duration'] > 0].copy()\n",
    "\n",
    "df.head()"
   ]
  },
  {
   "cell_type": "code",
   "execution_count": null,
   "metadata": {},
   "outputs": [],
   "source": [
    "# Count rows with empty start_station_id\n",
    "print(f\"Number of rows with empty start_station_id: {df['start_station_id'].isna().sum()}\")\n",
    "# Drop rows with empty start_station_id\n",
    "df = df.dropna(subset=['start_station_id'])\n",
    "\n",
    "print(f\"Number of rows with empty start_station_id: {df['start_station_id'].isna().sum()}\")"
   ]
  },
  {
   "cell_type": "code",
   "execution_count": null,
   "metadata": {},
   "outputs": [],
   "source": [
    "# Count rows with empty end_station_id\n",
    "print(f\"Number of rows with empty end_station_id: {df['end_station_id'].isna().sum()}\")\n",
    "# Drop rows with empty start_station_id\n",
    "df = df.dropna(subset=['end_station_id'])\n",
    "\n",
    "print(f\"Number of rows with empty end_station_id: {df['end_station_id'].isna().sum()}\")"
   ]
  },
  {
   "cell_type": "code",
   "execution_count": null,
   "metadata": {},
   "outputs": [],
   "source": [
    "# Count rows with empty values\n",
    "df.isnull().sum().sum()\n",
    "# Prints number of rows of the cleaned dataset\n",
    "print(len(df))"
   ]
  },
  {
   "cell_type": "code",
   "execution_count": null,
   "metadata": {},
   "outputs": [],
   "source": [
    "# Count the number of unique start stations\n",
    "print(f\"Real number of start stations:\", len(df['start_station_id'].unique()))"
   ]
  },
  {
   "cell_type": "code",
   "execution_count": null,
   "metadata": {},
   "outputs": [],
   "source": [
    "# Group by start_station_id and calculate the mean for start_lat and end_lat\n",
    "start_station_map = df.groupby('start_station_id')[['start_lat', 'start_lng']].mean().reset_index()\n",
    "\n",
    "# Rename the column to 'station_id'\n",
    "start_station_map.rename(columns={'start_station_id': 'station_id', 'start_lat': 'lat', 'start_lng': 'lng'}, inplace=True)\n",
    "\n",
    "# Group by start_station_id and calculate the mean for start_lat and end_lat\n",
    "end_station_map = df.groupby('end_station_id')[['end_lat', 'end_lng']].mean().reset_index()\n",
    "\n",
    "# Rename the column to 'station_id'\n",
    "end_station_map.rename(columns={'end_station_id': 'station_id','end_lat': 'lat', 'end_lng': 'lng'}, inplace=True)\n",
    "\n",
    "# Merge end_station_map with start_station_map on station_id\n",
    "# Merge end_station_map with start_station_map on station_id and calculate the mean of lat and lng values\n",
    "stations_map = pd.merge(start_station_map, end_station_map, on='station_id', suffixes=('_start', '_end'))\n",
    "\n",
    "# Calculate the mean of lat and lng values\n",
    "stations_map['lat'] = stations_map[['lat_start', 'lat_end']].mean(axis=1)\n",
    "stations_map['lng'] = stations_map[['lng_start', 'lng_end']].mean(axis=1)\n",
    "\n",
    "# Drop the intermediate columns\n",
    "stations_map = stations_map.drop(columns=['lat_start', 'lat_end', 'lng_start', 'lng_end'])\n",
    "\n",
    "# Display the resulting dataframe\n",
    "stations_map.head()"
   ]
  },
  {
   "cell_type": "code",
   "execution_count": null,
   "metadata": {},
   "outputs": [],
   "source": [
    "# Extract unique start station names and their corresponding IDs\n",
    "start_stations = df[['start_station_name', 'start_station_id']].drop_duplicates().reset_index(drop=True)\n",
    "\n",
    "# Extract unique end station names and their corresponding IDs\n",
    "end_stations = df[['end_station_name', 'end_station_id']].drop_duplicates().reset_index(drop=True)\n",
    "\n",
    "# Rename columns to have consistent names for concatenation\n",
    "end_stations.columns = ['station_name', 'station_id']\n",
    "start_stations.columns = ['station_name', 'station_id']\n",
    "\n",
    "# Concatenate start and end stations\n",
    "all_stations_names = pd.concat([start_stations, end_stations]).drop_duplicates().reset_index(drop=True)\n",
    "\n",
    "# Display the resulting dataframe\n",
    "all_stations_names.head()"
   ]
  },
  {
   "cell_type": "code",
   "execution_count": 132,
   "metadata": {
    "vscode": {
     "languageId": "ruby"
    }
   },
   "outputs": [],
   "source": [
    "# Merge all_stations_names with stations_map on station_id\n",
    "all_stations = pd.merge(all_stations_names, stations_map, on='station_id')\n",
    "\n",
    "# Reorder columns to put station_id first\n",
    "all_stations = all_stations[['station_id', 'station_name', 'lat', 'lng']]\n",
    "\n",
    "# Order rows by ascending order of station_id\n",
    "all_stations = all_stations.sort_values(by='station_id').reset_index(drop=True)\n",
    "\n",
    "# Display the resulting dataframe\n",
    "all_stations.head()\n",
    "\n",
    "all_stations.to_csv('./cleaned_datasets/all_stations.csv', index=False)"
   ]
  },
  {
   "cell_type": "code",
   "execution_count": 133,
   "metadata": {
    "vscode": {
     "languageId": "ruby"
    }
   },
   "outputs": [],
   "source": [
    "# Haversine formula function to calculate distance between two lat/long points\n",
    "def haversine(lat1, lon1, lat2, lon2):\n",
    "    R = 6371.0  # Radius of the Earth in kilometers\n",
    "    lat1 = np.radians(lat1)\n",
    "    lon1 = np.radians(lon1)\n",
    "    lat2 = np.radians(lat2)\n",
    "    lon2 = np.radians(lon2)\n",
    "    \n",
    "    dlat = lat2 - lat1\n",
    "    dlon = lon2 - lon1\n",
    "\n",
    "    a = np.sin(dlat / 2)**2 + np.cos(lat1) * np.cos(lat2) * np.sin(dlon / 2)**2\n",
    "    c = 2 * np.arctan2(np.sqrt(a), np.sqrt(1 - a))\n",
    "\n",
    "    distance = R * c  # Distance in kilometers\n",
    "    return distance"
   ]
  },
  {
   "cell_type": "code",
   "execution_count": null,
   "metadata": {
    "vscode": {
     "languageId": "ruby"
    }
   },
   "outputs": [],
   "source": [
    "# this takes about 10 minutes to run\n",
    "\n",
    "all_trips = df.drop([\"start_station_name\", \"end_station_name\", \"start_lat\", \"start_lng\", \"end_lat\", \"end_lng\"], axis=1)\n",
    "all_trips['distance'] = 1\n",
    "#all_trips.head()\n",
    "\n",
    "for i, row in all_trips.iterrows():\n",
    "\n",
    "    start_lat = all_stations[all_stations['station_id'] == row['start_station_id']][\"lat\"].values[0]\n",
    "    start_lng = all_stations[all_stations['station_id'] == row['start_station_id']][\"lng\"].values[0]\n",
    "\n",
    "    end_lat = all_stations[all_stations['station_id'] == row['end_station_id']][\"lat\"].values[0]\n",
    "    end_lng = all_stations[all_stations['station_id'] == row['end_station_id']][\"lng\"].values[0]\n",
    "\n",
    "    distance = haversine(start_lat, start_lng, end_lat, end_lng)\n",
    "\n",
    "    # Update the distance in the DataFrame\n",
    "    all_trips.at[i, 'distance'] = distance\n",
    "\n",
    "all_trips.to_csv('./cleaned_datasets/all_trips.csv', index=False)\n",
    "\n",
    "all_trips.head()"
   ]
  }
 ],
 "metadata": {
  "kernelspec": {
   "display_name": "Python 3",
   "language": "python",
   "name": "python3"
  },
  "language_info": {
   "codemirror_mode": {
    "name": "ipython",
    "version": 3
   },
   "file_extension": ".py",
   "mimetype": "text/x-python",
   "name": "python",
   "nbconvert_exporter": "python",
   "pygments_lexer": "ipython3",
   "version": "3.11.0"
  }
 },
 "nbformat": 4,
 "nbformat_minor": 2
}
