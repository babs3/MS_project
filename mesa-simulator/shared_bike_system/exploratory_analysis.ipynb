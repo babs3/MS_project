{
 "cells": [
  {
   "cell_type": "markdown",
   "metadata": {},
   "source": [
    "## Data exploration analysis"
   ]
  },
  {
   "cell_type": "code",
   "execution_count": 1,
   "metadata": {
    "vscode": {
     "languageId": "ruby"
    }
   },
   "outputs": [],
   "source": [
    "import pandas as pd\n",
    "import numpy as np\n",
    "\n",
    "# Read the CSV file\n",
    "all_stations = pd.read_csv('cleaned_datasets/all_stations.csv')\n",
    "all_trips = pd.read_csv('cleaned_datasets/all_trips.csv')"
   ]
  },
  {
   "cell_type": "code",
   "execution_count": null,
   "metadata": {
    "vscode": {
     "languageId": "ruby"
    }
   },
   "outputs": [],
   "source": [
    "import matplotlib.pyplot as plt\n",
    "\n",
    "# Convert 'started_at' to datetime if it's not already\n",
    "all_trips['started_at'] = pd.to_datetime(all_trips['started_at'])\n",
    "\n",
    "# Set figure size for the plots\n",
    "plt.figure(figsize=(15, 6))\n",
    "\n",
    "# Subplot 1: Number of Rides Over Time\n",
    "plt.subplot(1, 2, 1)  # 1 row, 2 columns, first subplot\n",
    "all_trips['started_at'].dt.date.value_counts().sort_index().plot(kind='line', color='blue')\n",
    "plt.title('Number of Rides Over Time')\n",
    "plt.xlabel('Date')\n",
    "plt.ylabel('Number of Rides')\n",
    "plt.xticks(rotation=45)  # Rotate x-axis labels for better readability\n",
    "\n",
    "# Subplot 2: Number of Rides by Hour\n",
    "plt.subplot(1, 2, 2)  # 1 row, 2 columns, second subplot\n",
    "all_trips['started_at'].dt.hour.value_counts().sort_index().plot(kind='bar', color='orange')\n",
    "plt.title('Number of Rides by Hour of the Day')\n",
    "plt.xlabel('Hour of the Day')\n",
    "plt.ylabel('Number of Rides')\n",
    "\n",
    "# Save the plot as an image file\n",
    "plt.savefig('./outputs/rides_over_time.png', format='png', dpi=300, bbox_inches='tight')\n",
    "\n",
    "# Adjust layout to prevent overlap\n",
    "plt.tight_layout()\n",
    "\n",
    "# Show the plots\n",
    "plt.show()"
   ]
  },
  {
   "cell_type": "code",
   "execution_count": null,
   "metadata": {
    "vscode": {
     "languageId": "ruby"
    }
   },
   "outputs": [],
   "source": [
    "import pandas as pd\n",
    "import matplotlib.pyplot as plt\n",
    "\n",
    "# Convert 'started_at' to datetime if it's not already\n",
    "all_trips['started_at'] = pd.to_datetime(all_trips['started_at'])\n",
    "\n",
    "# Create a new column for the day of the week\n",
    "all_trips['day_of_week'] = all_trips['started_at'].dt.day_name()\n",
    "\n",
    "# Define a function to categorize days into weekdays and weekends\n",
    "def categorize_day(day):\n",
    "    if day in ['Saturday', 'Sunday']:\n",
    "        return 'Weekend'\n",
    "    else:\n",
    "        return 'Weekday'\n",
    "\n",
    "# Apply the function to create a new column for categorization\n",
    "all_trips['day_type'] = all_trips['day_of_week'].apply(categorize_day)\n",
    "\n",
    "# Count the number of rides for weekdays and weekends\n",
    "rides_by_day_type = all_trips['day_type'].value_counts()\n",
    "\n",
    "# Plotting the results\n",
    "plt.figure(figsize=(8, 5))\n",
    "rides_by_day_type.plot(kind='bar', color=['blue', 'orange'])\n",
    "plt.title('Number of Rides on Weekdays vs Weekends')\n",
    "plt.xlabel('Day Type')\n",
    "plt.ylabel('Number of Rides')\n",
    "plt.xticks(rotation=0)  # Rotate x-axis labels for better readability\n",
    "\n",
    "# Save the plot as an image file\n",
    "plt.savefig('./outputs/rides_weekdays_vs_weekends.png', format='png', dpi=300)\n",
    "\n",
    "# Show the plot\n",
    "plt.tight_layout()\n",
    "plt.show()\n"
   ]
  },
  {
   "cell_type": "code",
   "execution_count": 4,
   "metadata": {
    "vscode": {
     "languageId": "ruby"
    }
   },
   "outputs": [],
   "source": [
    "all_trips.drop(columns=['day_of_week','day_type'], inplace=True)"
   ]
  },
  {
   "cell_type": "code",
   "execution_count": null,
   "metadata": {
    "vscode": {
     "languageId": "ruby"
    }
   },
   "outputs": [],
   "source": [
    "import matplotlib.pyplot as plt\n",
    "\n",
    "# Get the counts for start and end stations\n",
    "start_station_counts = all_trips['start_station_id'].value_counts()\n",
    "end_station_counts = all_trips['end_station_id'].value_counts()\n",
    "\n",
    "# Create subplots: 1 row, 2 columns\n",
    "fig, axes = plt.subplots(1, 2, figsize=(12, 6))  # Adjust figsize as needed\n",
    "\n",
    "# Plot the top 10 start stations\n",
    "start_station_counts.head(10).plot(kind='bar', ax=axes[0])  # Use ax parameter to specify subplot\n",
    "axes[0].set_title('Top 10 Start Stations')\n",
    "axes[0].set_xlabel('Station ID')\n",
    "axes[0].set_ylabel('Number of Rides')\n",
    "\n",
    "# Plot the top 10 end stations\n",
    "end_station_counts.head(10).plot(kind='bar', ax=axes[1])  # Use ax parameter to specify subplot\n",
    "axes[1].set_title('Top 10 End Stations')\n",
    "axes[1].set_xlabel('Station ID')\n",
    "axes[1].set_ylabel('Number of Rides')\n",
    "\n",
    "# Save the plot as an image file\n",
    "plt.savefig('./outputs/top10_stations.png', format='png', dpi=300, bbox_inches='tight')\n",
    "\n",
    "# Adjust layout to prevent overlap\n",
    "plt.tight_layout()\n",
    "\n",
    "# Show the plots\n",
    "plt.show()\n"
   ]
  },
  {
   "cell_type": "code",
   "execution_count": null,
   "metadata": {
    "vscode": {
     "languageId": "ruby"
    }
   },
   "outputs": [],
   "source": [
    "import matplotlib.pyplot as plt\n",
    "\n",
    "# Get the counts for start and end stations\n",
    "start_station_counts = all_trips['start_station_id'].value_counts()\n",
    "end_station_counts = all_trips['end_station_id'].value_counts()\n",
    "\n",
    "# Create subplots: 1 row, 2 columns\n",
    "fig, axes = plt.subplots(1, 2, figsize=(12, 6))  # Adjust figsize as needed\n",
    "\n",
    "# Plot the top 10 start stations\n",
    "start_station_counts.tail(10).plot(kind='bar', ax=axes[0])  # Use ax parameter to specify subplot\n",
    "axes[0].set_title('Bottom 10 Start Stations')\n",
    "axes[0].set_xlabel('Station ID')\n",
    "axes[0].set_ylabel('Number of Rides')\n",
    "\n",
    "# Plot the top 10 end stations\n",
    "end_station_counts.tail(10).plot(kind='bar', ax=axes[1])  # Use ax parameter to specify subplot\n",
    "axes[1].set_title('Bottom 10 End Stations')\n",
    "axes[1].set_xlabel('Station ID')\n",
    "axes[1].set_ylabel('Number of Rides')\n",
    "\n",
    "# Save the plot as an image file\n",
    "plt.savefig('./outputs/bottom10_stations.png', format='png', dpi=300, bbox_inches='tight')\n",
    "\n",
    "# Adjust layout to prevent overlap\n",
    "plt.tight_layout()\n",
    "\n",
    "# Show the plots\n",
    "plt.show()\n"
   ]
  },
  {
   "cell_type": "code",
   "execution_count": null,
   "metadata": {
    "vscode": {
     "languageId": "ruby"
    }
   },
   "outputs": [],
   "source": [
    "# Assuming start_station_counts is already defined\n",
    "\n",
    "# Get the station IDs from start_station_counts\n",
    "station_ids = start_station_counts.index\n",
    "\n",
    "# Create a mapping of station_id to station_name\n",
    "station_name_mapping = dict(zip(all_stations['station_id'], all_stations['station_name']))\n",
    "\n",
    "# Create a Series to map station IDs to names\n",
    "mapped_station_names = start_station_counts.index.map(station_name_mapping)\n",
    "\n",
    "# Create a DataFrame with station IDs, names, and ride counts\n",
    "result = pd.DataFrame({\n",
    "    'station_id': start_station_counts.index,\n",
    "    'station_name': mapped_station_names,\n",
    "    'ride_count': start_station_counts.values\n",
    "})\n",
    "\n",
    "# Sort the result by ride_count in descending order\n",
    "sorted_result = result.sort_values(by='ride_count', ascending=False)\n",
    "\n",
    "# Get the top 10 and bottom 10 stations\n",
    "top_stations = sorted_result.head(10)\n",
    "bottom_stations = sorted_result.tail(10)\n",
    "\n",
    "# Combine the top and bottom stations into a single DataFrame\n",
    "combined_result = pd.concat([top_stations, bottom_stations])\n",
    "\n",
    "print(combined_result)\n"
   ]
  },
  {
   "cell_type": "code",
   "execution_count": null,
   "metadata": {
    "vscode": {
     "languageId": "ruby"
    }
   },
   "outputs": [],
   "source": [
    "# Assuming start_station_counts is already defined\n",
    "\n",
    "# Get the station IDs from start_station_counts\n",
    "station_ids = end_station_counts.index\n",
    "\n",
    "# Create a mapping of station_id to station_name\n",
    "station_name_mapping = dict(zip(all_stations['station_id'], all_stations['station_name']))\n",
    "\n",
    "# Create a Series to map station IDs to names\n",
    "mapped_station_names = start_station_counts.index.map(station_name_mapping)\n",
    "\n",
    "# Create a DataFrame with station IDs, names, and ride counts\n",
    "result = pd.DataFrame({\n",
    "    'station_id': start_station_counts.index,\n",
    "    'station_name': mapped_station_names,\n",
    "    'ride_count': start_station_counts.values\n",
    "})\n",
    "\n",
    "# Sort the result by ride_count in descending order\n",
    "sorted_result = result.sort_values(by='ride_count', ascending=False)\n",
    "\n",
    "# Get the top 10 and bottom 10 stations\n",
    "top_stations = sorted_result.head(10)\n",
    "bottom_stations = sorted_result.tail(10)\n",
    "\n",
    "# Combine the top and bottom stations into a single DataFrame\n",
    "combined_result = pd.concat([top_stations, bottom_stations])\n",
    "\n",
    "print(combined_result)\n"
   ]
  },
  {
   "cell_type": "code",
   "execution_count": null,
   "metadata": {
    "vscode": {
     "languageId": "ruby"
    }
   },
   "outputs": [],
   "source": [
    "all_trips.head()"
   ]
  },
  {
   "cell_type": "code",
   "execution_count": null,
   "metadata": {
    "vscode": {
     "languageId": "ruby"
    }
   },
   "outputs": [],
   "source": [
    "# Assuming all_trips is your DataFrame and 'ride_id' is the column with the string IDs\n",
    "all_trips['ride_id'] = pd.factorize(all_trips['ride_id'])[0]\n",
    "\n",
    "# Convert ride_id to a hash integer\n",
    "all_trips['ride_id'] = all_trips['ride_id'].apply(lambda x: hash(x) % 10**8)  # Modulo to keep it in a manageable range\n",
    "\n",
    "# Convert the 'started_at' and 'ended_at' columns to datetime\n",
    "all_trips['started_at'] = pd.to_datetime(all_trips['started_at'])\n",
    "all_trips['ended_at'] = pd.to_datetime(all_trips['ended_at'])\n",
    "\n",
    "# Create and transform 'day_type'\n",
    "all_trips['day_type'] = all_trips['started_at'].dt.dayofweek\n",
    "all_trips['day_type'] = all_trips['day_type'].apply(lambda x: 1 if x >= 5 else 0)\n",
    "\n",
    "correlation_matrix = all_trips.corr()\n",
    "import seaborn as sns\n",
    "\n",
    "sns.heatmap(correlation_matrix, annot=True, cmap='coolwarm')\n",
    "plt.title('Correlation Matrix')\n",
    "plt.show()\n",
    "\n"
   ]
  },
  {
   "cell_type": "code",
   "execution_count": null,
   "metadata": {
    "vscode": {
     "languageId": "ruby"
    }
   },
   "outputs": [],
   "source": [
    "# Filter out rows where distance is 0 (start and end at the same station)\n",
    "filtered_trips = all_trips[all_trips['distance'] > 0]\n",
    "\n",
    "# Convert ride duration from seconds to minutes\n",
    "filtered_trips['ride_duration_minutes'] = filtered_trips['ride_duration'] / 60\n",
    "\n",
    "# Create scatter plot with filtered data\n",
    "plt.scatter(filtered_trips['distance'], filtered_trips['ride_duration_minutes'], alpha=0.5)\n",
    "plt.title('Distance vs. Ride Duration (in Minutes)')\n",
    "plt.xlabel('Distance (Kilometers)')\n",
    "plt.ylabel('Ride Duration (minutes)')\n",
    "\n",
    "# Save the plot as an image file\n",
    "plt.savefig('./outputs/distance_vs_duration.png', format='png', dpi=300)\n",
    "\n",
    "plt.show()\n"
   ]
  }
 ],
 "metadata": {
  "kernelspec": {
   "display_name": "Python 3",
   "language": "python",
   "name": "python3"
  },
  "language_info": {
   "codemirror_mode": {
    "name": "ipython",
    "version": 3
   },
   "file_extension": ".py",
   "mimetype": "text/x-python",
   "name": "python",
   "nbconvert_exporter": "python",
   "pygments_lexer": "ipython3",
   "version": "3.11.0"
  }
 },
 "nbformat": 4,
 "nbformat_minor": 2
}
